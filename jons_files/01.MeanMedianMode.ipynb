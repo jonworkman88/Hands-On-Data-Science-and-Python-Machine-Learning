{
 "cells": [
  {
   "cell_type": "code",
   "execution_count": 13,
   "metadata": {},
   "outputs": [],
   "source": [
    "import numpy as np\n",
    "%matplotlib inline\n",
    "import matplotlib.pyplot as plt"
   ]
  },
  {
   "cell_type": "code",
   "execution_count": null,
   "metadata": {},
   "outputs": [],
   "source": [
    "# calculate mean, median and mode using numpy\n",
    "# mean is the average score\n",
    "# median is the middle score \n",
    "# mode is the most frequent score"
   ]
  },
  {
   "cell_type": "code",
   "execution_count": 31,
   "metadata": {},
   "outputs": [],
   "source": [
    "incomes = np.random.normal(27000,15000,10000)"
   ]
  },
  {
   "cell_type": "code",
   "execution_count": 23,
   "metadata": {},
   "outputs": [
    {
     "data": {
      "text/plain": [
       "array([   21229.23059569,    39823.99579011,    38421.47818954, ...,\n",
       "          15683.11692794,    46156.73593737, 10000000.        ])"
      ]
     },
     "execution_count": 23,
     "metadata": {},
     "output_type": "execute_result"
    }
   ],
   "source": [
    "# numpy array of random numbers\n",
    "incomes"
   ]
  },
  {
   "cell_type": "code",
   "execution_count": 27,
   "metadata": {},
   "outputs": [
    {
     "data": {
      "text/plain": [
       "1027826.5522681789"
      ]
     },
     "execution_count": 27,
     "metadata": {},
     "output_type": "execute_result"
    }
   ],
   "source": [
    "np.mean(incomes)"
   ]
  },
  {
   "cell_type": "code",
   "execution_count": 28,
   "metadata": {},
   "outputs": [
    {
     "data": {
      "text/plain": [
       "27232.210201067333"
      ]
     },
     "execution_count": 28,
     "metadata": {},
     "output_type": "execute_result"
    }
   ],
   "source": [
    "np.median(incomes)"
   ]
  },
  {
   "cell_type": "code",
   "execution_count": 32,
   "metadata": {},
   "outputs": [
    {
     "data": {
      "text/plain": [
       "<function matplotlib.pyplot.show(*args, **kw)>"
      ]
     },
     "execution_count": 32,
     "metadata": {},
     "output_type": "execute_result"
    },
    {
     "data": {
      "image/png": "[encoded data removed]",
      "text/plain": [
       "<Figure size 432x288 with 1 Axes>"
      ]
     },
     "metadata": {
      "needs_background": "light"
     },
     "output_type": "display_data"
    }
   ],
   "source": [
    "# plot histogram of incomes\n",
    "plt.hist(incomes, 50)\n",
    "plt.show"
   ]
  },
  {
   "cell_type": "code",
   "execution_count": 30,
   "metadata": {},
   "outputs": [],
   "source": [
    "# add in an outlier and see the difference in mean and median. Always use median when you suspect outliers.\n",
    "incomes = np.append(incomes, [10000000000])"
   ]
  },
  {
   "cell_type": "code",
   "execution_count": 36,
   "metadata": {},
   "outputs": [],
   "source": [
    "# create random set of ages\n",
    "ages = np.random.randint(18, high=90, size=500)"
   ]
  },
  {
   "cell_type": "code",
   "execution_count": 37,
   "metadata": {},
   "outputs": [
    {
     "data": {
      "text/plain": [
       "array([44, 28, 27, 62, 67, 89, 46, 82, 41, 53, 52, 76, 89, 34, 49, 27, 67,\n",
       "       26, 56, 70, 32, 43, 77, 52, 38, 19, 50, 38, 75, 47, 23, 65, 46, 18,\n",
       "       47, 48, 45, 70, 40, 27, 73, 87, 63, 55, 54, 48, 65, 34, 41, 65, 65,\n",
       "       86, 38, 57, 54, 78, 57, 88, 27, 85, 37, 48, 72, 41, 53, 42, 65, 56,\n",
       "       22, 40, 68, 32, 72, 49, 38, 33, 24, 53, 89, 28, 74, 23, 73, 37, 27,\n",
       "       42, 89, 73, 48, 31, 53, 72, 82, 22, 39, 75, 20, 68, 68, 18, 47, 37,\n",
       "       76, 47, 26, 20, 77, 72, 46, 19, 66, 63, 82, 81, 40, 57, 84, 19, 48,\n",
       "       49, 76, 39, 53, 46, 19, 43, 33, 42, 70, 75, 44, 37, 57, 66, 67, 28,\n",
       "       79, 41, 23, 83, 54, 28, 25, 33, 84, 82, 38, 20, 58, 74, 25, 76, 59,\n",
       "       30, 67, 41, 22, 89, 58, 68, 30, 79, 44, 87, 42, 30, 66, 50, 60, 64,\n",
       "       79, 22, 71, 20, 44, 56, 22, 27, 32, 29, 29, 63, 26, 34, 29, 76, 75,\n",
       "       76, 48, 87, 41, 24, 52, 67, 80, 35, 58, 28, 38, 89, 88, 35, 31, 52,\n",
       "       34, 52, 64, 77, 22, 76, 81, 25, 53, 19, 29, 71, 76, 27, 68, 54, 64,\n",
       "       59, 37, 52, 83, 88, 34, 50, 72, 35, 24, 54, 61, 39, 68, 62, 35, 65,\n",
       "       51, 67, 28, 31, 36, 50, 49, 25, 50, 56, 43, 31, 71, 73, 50, 40, 24,\n",
       "       30, 41, 70, 88, 47, 79, 25, 82, 54, 38, 55, 71, 32, 26, 49, 39, 36,\n",
       "       85, 73, 50, 27, 84, 73, 86, 54, 48, 86, 48, 47, 65, 48, 71, 41, 39,\n",
       "       68, 50, 66, 40, 41, 60, 25, 24, 24, 86, 61, 83, 85, 45, 25, 46, 25,\n",
       "       37, 41, 31, 30, 86, 36, 44, 62, 25, 63, 36, 59, 27, 71, 56, 21, 86,\n",
       "       25, 54, 68, 73, 79, 60, 89, 77, 24, 22, 82, 64, 23, 54, 73, 67, 83,\n",
       "       52, 27, 68, 35, 41, 64, 44, 80, 34, 82, 41, 35, 60, 37, 22, 82, 40,\n",
       "       39, 65, 57, 50, 88, 85, 60, 63, 87, 72, 72, 22, 78, 75, 19, 18, 28,\n",
       "       26, 71, 58, 22, 24, 65, 70, 76, 31, 58, 77, 43, 41, 40, 70, 29, 36,\n",
       "       42, 74, 55, 80, 89, 69, 82, 35, 27, 81, 30, 57, 31, 24, 30, 64, 75,\n",
       "       58, 34, 50, 76, 83, 61, 38, 23, 69, 71, 34, 47, 78, 53, 18, 25, 27,\n",
       "       41, 42, 62, 57, 51, 42, 72, 59, 36, 22, 73, 86, 79, 58, 74, 74, 26,\n",
       "       74, 54, 79, 39, 80, 39, 47, 56, 64, 30, 47, 85, 88, 28, 82, 76, 82,\n",
       "       76, 68, 55, 87, 74, 59, 30, 69, 29, 30, 57, 42, 83, 39, 26, 73, 79,\n",
       "       18, 34, 27, 46, 87, 42, 67, 53, 86, 46, 83, 68, 67, 24, 42, 60, 50,\n",
       "       31, 20, 70, 47, 63, 71, 83])"
      ]
     },
     "execution_count": 37,
     "metadata": {},
     "output_type": "execute_result"
    }
   ],
   "source": [
    "ages"
   ]
  },
  {
   "cell_type": "code",
   "execution_count": 42,
   "metadata": {},
   "outputs": [
    {
     "data": {
      "text/plain": [
       "ModeResult(mode=array([30]), count=array([13]))"
      ]
     },
     "execution_count": 42,
     "metadata": {},
     "output_type": "execute_result"
    }
   ],
   "source": [
    "# calculate the mode using scipy\n",
    "from scipy import stats\n",
    "stats.mode(ages)"
   ]
  },
  {
   "cell_type": "code",
   "execution_count": 43,
   "metadata": {},
   "outputs": [],
   "source": [
    "ages = np.random.randint(18, high=90, size=500)"
   ]
  },
  {
   "cell_type": "code",
   "execution_count": 44,
   "metadata": {},
   "outputs": [
    {
     "data": {
      "text/plain": [
       "ModeResult(mode=array([68]), count=array([14]))"
      ]
     },
     "execution_count": 44,
     "metadata": {},
     "output_type": "execute_result"
    }
   ],
   "source": [
    "stats.mode(ages)"
   ]
  },
  {
   "cell_type": "code",
   "execution_count": null,
   "metadata": {},
   "outputs": [],
   "source": []
  }
 ],
 "metadata": {
  "kernelspec": {
   "display_name": "Python 3",
   "language": "python",
   "name": "python3"
  },
  "language_info": {
   "codemirror_mode": {
    "name": "ipython",
    "version": 3
   },
   "file_extension": ".py",
   "mimetype": "text/x-python",
   "name": "python",
   "nbconvert_exporter": "python",
   "pygments_lexer": "ipython3",
   "version": "3.7.1"
  }
 },
 "nbformat": 4,
 "nbformat_minor": 2
}
